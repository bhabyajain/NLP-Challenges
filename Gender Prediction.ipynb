{
 "cells": [
  {
   "cell_type": "code",
   "execution_count": null,
   "metadata": {},
   "outputs": [],
   "source": [
    "f = open(\"corpus.txt\", \"r\")\n",
    "text=f.read()\n",
    "n=int(input())\n",
    "names=[]\n",
    "for i in range(n):\n",
    "    s=input()\n",
    "    names.append(s)\n",
    "punctuations=['!', '\"', '#', '$', '%', '&', \"'\", '(', ')', '*', '+', ',', '-', '.', '/', ':', ';', '<', '=', '>', '?', '@', '[', '\\\\', ']', '^', '_', '`', '{', '|', '}', '~']\n",
    "males = set(['he', 'his', 'him', 'himself', 'father', 'brother', 'uncle', 'half-brother', 'halfbrother', 'son', 'boy', 'dad', 'grandfather', 'king', 'nephew', 'actor', 'steward', 'barman', 'groom', 'chairman', 'man', 'gentleman', 'hero', 'host', 'husband', 'landlord', 'lord', 'monk', 'prince', 'waiter', 'widower', 'character', 'marquis', 'earl', 'italian', 'sir', 'cousin', 'englishman', 'attack', 'war', 'ranger', 'businessman', 'crowned','co-founder','corporation','technology','engineering','slays','intemperate', 'washerman,', 'berating', 'wayward', 'kill','buried','ruin','settle','exile','secretary','foreign','verses','mr','master','lord','esquire','sire'])\n",
    "females = set(['she','girl', 'hers', 'her', 'herself', 'mother', 'sister', 'aunt', 'half-sister', 'halfsister', 'daughter', 'girl', 'mom', 'grandmother', 'queen', 'niece', 'actress', 'stewardess', 'barmaid', 'bride', 'chairwoman', 'lady', 'headmistress', 'heroine', 'hostess', 'wife', 'landlady', 'lady', 'nun', 'princess', 'waitress', 'widow', 'dear', 'little', 'businesswoman','impure','forest','abducted','marries','purity','listen','earth','furrow','goddess','brother-in-law','queen','woman','female','women','baroness','dedication,', 'self-sacrifice','wifely', 'womanly', 'virtues', 'mrs', 'miss', 'ms', 'mistress' ,'madam'])\n",
    "def removepunc(t):\n",
    "    t1 = ''.join(ch for ch in t if ch not in punctuations)\n",
    "    import re\n",
    "    t2 = re.sub(' +', ' ', t1)\n",
    "    if(t2[0]==' '):\n",
    "        t2=t2[1:]\n",
    "    if(t2[len(t2)-1]==' '):\n",
    "        t2=t2[0:len(t2)-1]\n",
    "    return t2\n",
    "texts=text.replace(\"\\n\",\" \")\n",
    "txt=removepunc(texts)\n",
    "tlist=txt.split(\" \")\n",
    "male=[0 for i in range(n)]\n",
    "female=[0 for i in range(n)]\n",
    "for i in range(len(tlist)):\n",
    "    if(tlist[i] in names):\n",
    "        nm=names.index(tlist[i])\n",
    "        #print(tlist[i])\n",
    "        for j in range(-10,10,1):\n",
    "            if(i+j > 0 and i+j < len(tlist)):\n",
    "                #print(tlist[i+j])\n",
    "                if(tlist[i+j].lower() in males):\n",
    "                    male[nm]=male[nm]+1\n",
    "                elif(tlist[i+j].lower() in females):\n",
    "                    female[nm]=female[nm]+1\n",
    "                else:\n",
    "                    female[nm]=female[nm]\n",
    "for i in range(n):\n",
    "    if(male[i]>female[i]):\n",
    "        print(\"Male\")\n",
    "    else:\n",
    "        print(\"Female\")\n"
   ]
  }
 ],
 "metadata": {
  "kernelspec": {
   "display_name": "Python 3",
   "language": "python",
   "name": "python3"
  },
  "language_info": {
   "codemirror_mode": {
    "name": "ipython",
    "version": 3
   },
   "file_extension": ".py",
   "mimetype": "text/x-python",
   "name": "python",
   "nbconvert_exporter": "python",
   "pygments_lexer": "ipython3",
   "version": "3.5.5"
  }
 },
 "nbformat": 4,
 "nbformat_minor": 2
}
